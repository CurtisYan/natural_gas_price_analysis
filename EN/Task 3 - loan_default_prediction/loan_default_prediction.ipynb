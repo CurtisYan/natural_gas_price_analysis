{
 "cells": [
  {
   "cell_type": "markdown",
   "metadata": {},
   "source": [
    "# Loan Default Prediction Model\n",
    "\n",
    "This notebook is used to predict the probability of default for borrowers and calculate the expected loss on a loan. Models include Logistic Regression, Decision Trees, and Random Forests.\n",
    "\n",
    "Author: Curtis Yan\n",
    "Date: 2025.8.7\n"
   ]
  },
  {
   "cell_type": "code",
   "execution_count": 1,
   "metadata": {},
   "outputs": [],
   "source": [
    "import pandas as pd\n",
    "import numpy as np\n",
    "import matplotlib.pyplot as plt\n",
    "from sklearn.model_selection import train_test_split, cross_val_score, GridSearchCV\n",
    "from sklearn.preprocessing import StandardScaler\n",
    "from sklearn.linear_model import LogisticRegression\n",
    "from sklearn.tree import DecisionTreeClassifier\n",
    "from sklearn.ensemble import RandomForestClassifier\n",
    "from sklearn.metrics import accuracy_score, roc_auc_score, classification_report, confusion_matrix\n",
    "import warnings\n",
    "warnings.filterwarnings('ignore')\n",
    "import matplotlib.pyplot as plt\n",
    "import seaborn as sns\n",
    "\n",
    "np.random.seed(42)"
   ]
  },
  {
   "cell_type": "markdown",
   "metadata": {},
   "source": [
    "## Data Handling\n",
    "\n",
    "Load and preprocess the data."
   ]
  },
  {
   "cell_type": "code",
   "execution_count": 2,
   "metadata": {},
   "outputs": [
    {
     "name": "stdout",
     "output_type": "stream",
     "text": [
      "   customer_id  credit_lines_outstanding  loan_amt_outstanding  \\\n",
      "0            0                         6         135447.610608   \n",
      "1            1                         3         365786.837171   \n",
      "2            2                         7         300551.823577   \n",
      "3            3                         4          60084.205470   \n",
      "4            4                         6         460187.755908   \n",
      "\n",
      "   total_debt_outstanding         income  years_employed  fico_score  default  \n",
      "0            66874.203986  108023.791494               7         840        0  \n",
      "1            57261.411273  186295.858777              27         460        0  \n",
      "2           751283.112332   59936.230126              18         416        0  \n",
      "3           665854.823520   66372.696577              29         570        0  \n",
      "4           806087.946965   32215.026519              10         786        0  \n"
     ]
    }
   ],
   "source": [
    "# Placeholder for actual data path\n",
    "# df = pd.read_csv('Task 3 and 4_Loan_Data.csv')\n",
    "\n",
    "# Simulating data for demonstration\n",
    "df = pd.DataFrame({\n",
    "    'customer_id': range(1000),\n",
    "    'credit_lines_outstanding': np.random.randint(0, 10, 1000),\n",
    "    'loan_amt_outstanding': np.random.uniform(10000, 500000, 1000),\n",
    "    'total_debt_outstanding': np.random.uniform(20000, 1000000, 1000),\n",
    "    'income': np.random.uniform(30000, 200000, 1000),\n",
    "    'years_employed': np.random.randint(0, 30, 1000),\n",
    "    'fico_score': np.random.randint(300, 850, 1000),\n",
    "    'default': np.random.binomial(1, 0.15, 1000)\n",
    "})\n",
    "print(df.head())"
   ]
  },
  {
   "cell_type": "markdown",
   "metadata": {},
   "source": [
    "## Feature Engineering\n",
    "\n",
    "Add new features and split data into train and test sets."
   ]
  },
  {
   "cell_type": "code",
   "execution_count": 3,
   "metadata": {},
   "outputs": [],
   "source": [
    "X = df.drop(['default', 'customer_id'], axis=1)\n",
    "y = df['default']\n",
    "\n",
    "# Add new features\n",
    "X['debt_to_income_ratio'] = X['total_debt_outstanding'] / X['income']\n",
    "X['loan_to_income_ratio'] = X['loan_amt_outstanding'] / X['income']\n",
    "\n",
    "X_train, X_test, y_train, y_test = train_test_split(X, y, test_size=0.2, random_state=42, stratify=y)\n",
    "\n",
    "# Create scaler instance\n",
    "scaler = StandardScaler()\n",
    "X_train_scaled = scaler.fit_transform(X_train)\n",
    "X_test_scaled = scaler.transform(X_test)\n"
   ]
  },
  {
   "cell_type": "markdown",
   "metadata": {},
   "source": [
    "## Model Training and Evaluation\n",
    "\n",
    "Train Logistic Regression, Decision Tree, and Random Forest models, and evaluate their performance."
   ]
  },
  {
   "cell_type": "code",
   "execution_count": 4,
   "metadata": {},
   "outputs": [
    {
     "name": "stdout",
     "output_type": "stream",
     "text": [
      "Logistic Regression:\n",
      "  Best Params: {'C': 0.01, 'penalty': 'l2', 'solver': 'lbfgs'}\n",
      "  Accuracy: 0.8450\n",
      "  AUC Score: 0.4402\n",
      "Decision Tree:\n",
      "  Best Params: {'max_depth': 10, 'min_samples_leaf': 10, 'min_samples_split': 10}\n",
      "  Accuracy: 0.8100\n",
      "  AUC Score: 0.5196\n",
      "Random Forest:\n",
      "  Best Params: {'max_depth': 10, 'min_samples_split': 20, 'n_estimators': 100}\n",
      "  Accuracy: 0.8450\n",
      "  AUC Score: 0.4871\n",
      "\n",
      "Best Model: Decision Tree\n"
     ]
    }
   ],
   "source": [
    "models = {}\n",
    "best_model = None\n",
    "best_score = 0\n",
    "\n",
    "# Logistic Regression\n",
    "lr_params = {'C': [0.01, 0.1, 1, 10], 'penalty': ['l2'], 'solver': ['lbfgs']}\n",
    "lr_model = GridSearchCV(LogisticRegression(random_state=42), lr_params, cv=5, scoring='roc_auc')\n",
    "lr_model.fit(X_train_scaled, y_train)\n",
    "models['Logistic Regression'] = lr_model\n",
    "\n",
    "# Decision Tree\n",
    "dt_params = {'max_depth': [3, 5, 7, 10], 'min_samples_split': [10, 20, 50], 'min_samples_leaf': [5, 10, 20]}\n",
    "dt_model = GridSearchCV(DecisionTreeClassifier(random_state=42), dt_params, cv=5, scoring='roc_auc')\n",
    "dt_model.fit(X_train, y_train)\n",
    "models['Decision Tree'] = dt_model\n",
    "\n",
    "# Random Forest\n",
    "rf_params = {'n_estimators': [100, 200], 'max_depth': [5, 10, 15], 'min_samples_split': [10, 20]}\n",
    "rf_model = GridSearchCV(RandomForestClassifier(random_state=42), rf_params, cv=5, scoring='roc_auc')\n",
    "rf_model.fit(X_train, y_train)\n",
    "models['Random Forest'] = rf_model\n",
    "\n",
    "# Evaluate models\n",
    "for model_name, model in models.items():\n",
    "    y_pred = model.predict(X_test_scaled if model_name == 'Logistic Regression' else X_test)\n",
    "    y_pred_proba = model.predict_proba(X_test_scaled if model_name == 'Logistic Regression' else X_test)[:, 1]\n",
    "    accuracy = accuracy_score(y_test, y_pred)\n",
    "    auc_score = roc_auc_score(y_test, y_pred_proba)\n",
    "    \n",
    "    print(f'{model_name}:')\n",
    "    print(f'  Best Params: {model.best_params_}')\n",
    "    print(f'  Accuracy: {accuracy:.4f}')\n",
    "    print(f'  AUC Score: {auc_score:.4f}')\n",
    "    \n",
    "    if auc_score > best_score:\n",
    "        best_score = auc_score\n",
    "        best_model = model\n",
    "        best_model_name = model_name\n",
    "\n",
    "print(f'\\nBest Model: {best_model_name}')"
   ]
  },
  {
   "cell_type": "markdown",
   "metadata": {},
   "source": [
    "## Predicting and Calculating Expected Loss\n",
    "\n",
    "Using the best performing model to predict default probabilities and calculate expected loss."
   ]
  },
  {
   "cell_type": "code",
   "execution_count": 5,
   "metadata": {},
   "outputs": [
    {
     "name": "stdout",
     "output_type": "stream",
     "text": [
      "Default Probability: 0.00%\n",
      "Expected Loss: $0.00\n"
     ]
    }
   ],
   "source": [
    "def calculate_expected_loss(probability_of_default, loan_amount, recovery_rate=0.1):\n",
    "    return probability_of_default * (1 - recovery_rate) * loan_amount\n",
    "\n",
    "test_case = {\n",
    "    'credit_lines_outstanding': 4,\n",
    "    'loan_amt_outstanding': 100000,\n",
    "    'total_debt_outstanding': 150000,\n",
    "    'income': 80000,\n",
    "    'years_employed': 5,\n",
    "    'fico_score': 650\n",
    "}\n",
    "\n",
    "test_features = pd.DataFrame([test_case])\n",
    "test_features['debt_to_income_ratio'] = test_features['total_debt_outstanding'] / test_features['income']\n",
    "test_features['loan_to_income_ratio'] = test_features['loan_amt_outstanding'] / test_features['income']\n",
    "\n",
    "prob_default = best_model.predict_proba(test_features if best_model_name != 'Logistic Regression' else scaler.transform(test_features))[:, 1][0]\n",
    "expected_loss = calculate_expected_loss(prob_default, loan_amount=100000)\n",
    "\n",
    "print(f'Default Probability: {prob_default:.2%}')\n",
    "print(f'Expected Loss: ${expected_loss:,.2f}')"
   ]
  },
  {
   "cell_type": "markdown",
   "metadata": {},
   "source": [
    "## Model Performance Visualization\n",
    "\n",
    "Display model performance comparison and feature importance analysis."
   ]
  },
  {
   "cell_type": "code",
   "execution_count": 6,
   "metadata": {},
   "outputs": [
    {
     "data": {
      "image/png": "[encoded data removed]",
      "text/plain": [
       "<Figure size 1200x500 with 2 Axes>"
      ]
     },
     "metadata": {},
     "output_type": "display_data"
    },
    {
     "data": {
      "image/png": "[encoded data removed]",
      "text/plain": [
       "<Figure size 1000x600 with 1 Axes>"
      ]
     },
     "metadata": {},
     "output_type": "display_data"
    }
   ],
   "source": [
    "# Model performance comparison\n",
    "model_names = list(models.keys())\n",
    "accuracies = []\n",
    "auc_scores = []\n",
    "\n",
    "for model_name, model in models.items():\n",
    "    y_pred = model.predict(X_test_scaled if model_name == 'Logistic Regression' else X_test)\n",
    "    y_pred_proba = model.predict_proba(X_test_scaled if model_name == 'Logistic Regression' else X_test)[:, 1]\n",
    "    accuracies.append(accuracy_score(y_test, y_pred))\n",
    "    auc_scores.append(roc_auc_score(y_test, y_pred_proba))\n",
    "\n",
    "# Create performance comparison plots\n",
    "fig, (ax1, ax2) = plt.subplots(1, 2, figsize=(12, 5))\n",
    "\n",
    "# Accuracy comparison\n",
    "ax1.bar(model_names, accuracies, color=['#3498db', '#2ecc71', '#e74c3c'])\n",
    "ax1.set_ylabel('Accuracy')\n",
    "ax1.set_title('Model Accuracy Comparison')\n",
    "ax1.set_ylim(0, 1)\n",
    "for i, v in enumerate(accuracies):\n",
    "    ax1.text(i, v + 0.01, f'{v:.3f}', ha='center')\n",
    "\n",
    "# AUC score comparison\n",
    "ax2.bar(model_names, auc_scores, color=['#3498db', '#2ecc71', '#e74c3c'])\n",
    "ax2.set_ylabel('AUC Score')\n",
    "ax2.set_title('Model AUC Score Comparison')\n",
    "ax2.set_ylim(0, 1)\n",
    "for i, v in enumerate(auc_scores):\n",
    "    ax2.text(i, v + 0.01, f'{v:.3f}', ha='center')\n",
    "\n",
    "plt.tight_layout()\n",
    "plt.show()\n",
    "\n",
    "# Feature importance (if best model is tree-based)\n",
    "if best_model_name in ['Decision Tree', 'Random Forest']:\n",
    "    feature_importance = pd.DataFrame({\n",
    "        'Feature': X.columns,\n",
    "        'Importance': best_model.best_estimator_.feature_importances_\n",
    "    }).sort_values('Importance', ascending=False)\n",
    "    \n",
    "    plt.figure(figsize=(10, 6))\n",
    "    plt.barh(feature_importance['Feature'], feature_importance['Importance'])\n",
    "    plt.xlabel('Importance Score')\n",
    "    plt.title(f'Feature Importance for {best_model_name} Model')\n",
    "    plt.gca().invert_yaxis()\n",
    "    plt.tight_layout()\n",
    "    plt.show()"
   ]
  },
  {
   "cell_type": "markdown",
   "metadata": {},
   "source": [
    "## Batch Test Cases\n",
    "\n",
    "Using multiple test cases to demonstrate the model's predictive capability."
   ]
  },
  {
   "cell_type": "code",
   "execution_count": 7,
   "metadata": {},
   "outputs": [
    {
     "name": "stdout",
     "output_type": "stream",
     "text": [
      "Loan Risk Assessment Batch Test Results\n",
      "================================================================================\n",
      "Customer Type: Prime Customer\n",
      "  Loan Amount: $100,000\n",
      "  Default Probability: 0.00%\n",
      "  Expected Loss: $0.00\n",
      "  Risk Level: Low\n",
      "----------------------------------------\n",
      "Customer Type: Medium Risk Customer\n",
      "  Loan Amount: $80,000\n",
      "  Default Probability: 0.00%\n",
      "  Expected Loss: $0.00\n",
      "  Risk Level: Low\n",
      "----------------------------------------\n",
      "Customer Type: High Risk Customer\n",
      "  Loan Amount: $150,000\n",
      "  Default Probability: 0.00%\n",
      "  Expected Loss: $0.00\n",
      "  Risk Level: Low\n",
      "----------------------------------------\n",
      "\n",
      "Results Summary Table:\n",
      "       Customer Type  Loan Amount  Default Probability  Expected Loss Risk Level\n",
      "      Prime Customer       100000                0.00%          0.00%        Low\n",
      "Medium Risk Customer        80000                0.00%          0.00%        Low\n",
      "  High Risk Customer       150000                0.00%          0.00%        Low\n"
     ]
    }
   ],
   "source": [
    "# Create multiple test cases\n",
    "test_cases = [\n",
    "    {\n",
    "        'description': 'Prime Customer',\n",
    "        'credit_lines_outstanding': 2,\n",
    "        'loan_amt_outstanding': 50000,\n",
    "        'total_debt_outstanding': 80000,\n",
    "        'income': 150000,\n",
    "        'years_employed': 15,\n",
    "        'fico_score': 780,\n",
    "        'loan_amount': 100000\n",
    "    },\n",
    "    {\n",
    "        'description': 'Medium Risk Customer',\n",
    "        'credit_lines_outstanding': 4,\n",
    "        'loan_amt_outstanding': 100000,\n",
    "        'total_debt_outstanding': 150000,\n",
    "        'income': 80000,\n",
    "        'years_employed': 5,\n",
    "        'fico_score': 650,\n",
    "        'loan_amount': 80000\n",
    "    },\n",
    "    {\n",
    "        'description': 'High Risk Customer',\n",
    "        'credit_lines_outstanding': 8,\n",
    "        'loan_amt_outstanding': 250000,\n",
    "        'total_debt_outstanding': 400000,\n",
    "        'income': 60000,\n",
    "        'years_employed': 2,\n",
    "        'fico_score': 550,\n",
    "        'loan_amount': 150000\n",
    "    }\n",
    "]\n",
    "\n",
    "# Batch predictions and results display\n",
    "results = []\n",
    "\n",
    "print(\"Loan Risk Assessment Batch Test Results\")\n",
    "print(\"=\" * 80)\n",
    "\n",
    "for case in test_cases:\n",
    "    # Prepare features\n",
    "    features = {k: v for k, v in case.items() if k not in ['description', 'loan_amount']}\n",
    "    test_df = pd.DataFrame([features])\n",
    "    test_df['debt_to_income_ratio'] = test_df['total_debt_outstanding'] / test_df['income']\n",
    "    test_df['loan_to_income_ratio'] = test_df['loan_amt_outstanding'] / test_df['income']\n",
    "    \n",
    "    # Predict\n",
    "    if best_model_name == 'Logistic Regression':\n",
    "        prob = best_model.predict_proba(scaler.transform(test_df))[:, 1][0]\n",
    "    else:\n",
    "        prob = best_model.predict_proba(test_df)[:, 1][0]\n",
    "    \n",
    "    expected_loss = calculate_expected_loss(prob, case['loan_amount'])\n",
    "    \n",
    "    # Save results\n",
    "    results.append({\n",
    "        'Customer Type': case['description'],\n",
    "        'Loan Amount': case['loan_amount'],\n",
    "        'Default Probability': prob,\n",
    "        'Expected Loss': expected_loss,\n",
    "        'Risk Level': 'Low' if prob < 0.1 else ('Medium' if prob < 0.3 else 'High')\n",
    "    })\n",
    "    \n",
    "    print(f\"Customer Type: {case['description']}\")\n",
    "    print(f\"  Loan Amount: ${case['loan_amount']:,}\")\n",
    "    print(f\"  Default Probability: {prob:.2%}\")\n",
    "    print(f\"  Expected Loss: ${expected_loss:,.2f}\")\n",
    "    print(f\"  Risk Level: {results[-1]['Risk Level']}\")\n",
    "    print(\"-\" * 40)\n",
    "\n",
    "# Results summary table\n",
    "results_df = pd.DataFrame(results)\n",
    "print(\"\\nResults Summary Table:\")\n",
    "print(results_df.to_string(index=False, float_format=lambda x: f'{x:.2%}' if x < 1 else f'${x:,.0f}'))"
   ]
  },
  {
   "cell_type": "markdown",
   "metadata": {},
   "source": [
    "## Final Prediction Function\n",
    "\n",
    "Encapsulating into a complete function."
   ]
  },
  {
   "cell_type": "code",
   "execution_count": 8,
   "metadata": {},
   "outputs": [
    {
     "name": "stdout",
     "output_type": "stream",
     "text": [
      "\n",
      "Function Test Results:\n",
      "Loan Amount: $50,000\n",
      "Expected Loss: $0.00\n",
      "Loss Rate: 0.00%\n"
     ]
    }
   ],
   "source": [
    "def predict_loan_expected_loss(loan_properties, trained_model=None, trained_scaler=None, model_type=None):\n",
    "    \"\"\"\n",
    "    Predict expected loss based on loan properties\n",
    "    \n",
    "    Parameters:\n",
    "    loan_properties: Dictionary containing the following keys\n",
    "        - credit_lines_outstanding: Number of outstanding credit lines\n",
    "        - loan_amt_outstanding: Outstanding loan amount\n",
    "        - total_debt_outstanding: Total outstanding debt\n",
    "        - income: Annual income\n",
    "        - years_employed: Years of employment\n",
    "        - fico_score: FICO credit score\n",
    "        - loan_amount: Loan amount to assess\n",
    "    trained_model: Pre-trained model (defaults to global best_model)\n",
    "    trained_scaler: Pre-trained scaler (only needed for Logistic Regression)\n",
    "    model_type: Model type name\n",
    "    \n",
    "    Returns:\n",
    "    Expected loss amount\n",
    "    \"\"\"\n",
    "    # Use default model\n",
    "    if trained_model is None:\n",
    "        trained_model = best_model\n",
    "        model_type = best_model_name\n",
    "    if trained_scaler is None:\n",
    "        trained_scaler = scaler\n",
    "    \n",
    "    # Prepare features\n",
    "    features = {k: v for k, v in loan_properties.items() if k != 'loan_amount'}\n",
    "    features_df = pd.DataFrame([features])\n",
    "    \n",
    "    # Add derived features\n",
    "    features_df['debt_to_income_ratio'] = features_df['total_debt_outstanding'] / features_df['income']\n",
    "    features_df['loan_to_income_ratio'] = features_df['loan_amt_outstanding'] / features_df['income']\n",
    "    \n",
    "    # Predict default probability\n",
    "    if model_type == 'Logistic Regression':\n",
    "        prob_default = trained_model.predict_proba(trained_scaler.transform(features_df))[:, 1][0]\n",
    "    else:\n",
    "        prob_default = trained_model.predict_proba(features_df)[:, 1][0]\n",
    "    \n",
    "    # Calculate expected loss\n",
    "    recovery_rate = 0.1\n",
    "    expected_loss = prob_default * (1 - recovery_rate) * loan_properties['loan_amount']\n",
    "    \n",
    "    return expected_loss\n",
    "\n",
    "# Test the function\n",
    "test_loan = {\n",
    "    'credit_lines_outstanding': 3,\n",
    "    'loan_amt_outstanding': 75000,\n",
    "    'total_debt_outstanding': 120000,\n",
    "    'income': 90000,\n",
    "    'years_employed': 8,\n",
    "    'fico_score': 700,\n",
    "    'loan_amount': 50000\n",
    "}\n",
    "\n",
    "expected_loss = predict_loan_expected_loss(test_loan)\n",
    "print(f\"\\nFunction Test Results:\")\n",
    "print(f\"Loan Amount: ${test_loan['loan_amount']:,}\")\n",
    "print(f\"Expected Loss: ${expected_loss:,.2f}\")\n",
    "print(f\"Loss Rate: {expected_loss/test_loan['loan_amount']:.2%}\")"
   ]
  }
 ],
 "metadata": {
  "kernelspec": {
   "display_name": "gas_analysis_env",
   "language": "python",
   "name": "python3"
  },
  "language_info": {
   "codemirror_mode": {
    "name": "ipython",
    "version": 3
   },
   "file_extension": ".py",
   "mimetype": "text/x-python",
   "name": "python",
   "nbconvert_exporter": "python",
   "pygments_lexer": "ipython3",
   "version": "3.13.2"
  }
 },
 "nbformat": 4,
 "nbformat_minor": 4
}
