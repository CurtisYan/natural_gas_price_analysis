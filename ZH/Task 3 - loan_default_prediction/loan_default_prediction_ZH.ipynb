{
 "cells": [
  {
   "cell_type": "markdown",
   "metadata": {},
   "source": [
    "# 贷款违约预测\n",
    "\n",
    "通过机器学习模型预测贷款违约概率和计算预期损失"
   ]
  },
  {
   "cell_type": "code",
   "execution_count": 14,
   "metadata": {},
   "outputs": [],
   "source": [
    "import pandas as pd\n",
    "import numpy as np\n",
    "import matplotlib.pyplot as plt\n",
    "from sklearn.model_selection import train_test_split, cross_val_score, GridSearchCV\n",
    "from sklearn.preprocessing import StandardScaler\n",
    "from sklearn.linear_model import LogisticRegression\n",
    "from sklearn.tree import DecisionTreeClassifier\n",
    "from sklearn.ensemble import RandomForestClassifier\n",
    "from sklearn.metrics import accuracy_score, roc_auc_score, classification_report, confusion_matrix\n",
    "import warnings\n",
    "warnings.filterwarnings('ignore')\n",
    "import matplotlib.pyplot as plt\n",
    "import seaborn as sns\n",
    "plt.rcParams['font.sans-serif'] = ['Arial Unicode MS', 'SimHei']  # 中文显示\n",
    "plt.rcParams['axes.unicode_minus'] = False  # 负号显示\n",
    "\n",
    "np.random.seed(42)"
   ]
  },
  {
   "cell_type": "markdown",
   "metadata": {},
   "source": [
    "## 数据处理\n",
    "\n",
    "加载并预处理数据。"
   ]
  },
  {
   "cell_type": "code",
   "execution_count": 15,
   "metadata": {},
   "outputs": [
    {
     "name": "stdout",
     "output_type": "stream",
     "text": [
      "   customer_id  credit_lines_outstanding  loan_amt_outstanding  \\\n",
      "0            0                         6         135447.610608   \n",
      "1            1                         3         365786.837171   \n",
      "2            2                         7         300551.823577   \n",
      "3            3                         4          60084.205470   \n",
      "4            4                         6         460187.755908   \n",
      "\n",
      "   total_debt_outstanding         income  years_employed  fico_score  default  \n",
      "0            66874.203986  108023.791494               7         840        0  \n",
      "1            57261.411273  186295.858777              27         460        0  \n",
      "2           751283.112332   59936.230126              18         416        0  \n",
      "3           665854.823520   66372.696577              29         570        0  \n",
      "4           806087.946965   32215.026519              10         786        0  \n"
     ]
    }
   ],
   "source": [
    "# 实际数据路径占位符\n",
    "# df = pd.read_csv('Task 3 and 4_Loan_Data.csv')\n",
    "\n",
    "# 为演示生成模拟数据\n",
    "df = pd.DataFrame({\n",
    "    'customer_id': range(1000),\n",
    "    'credit_lines_outstanding': np.random.randint(0, 10, 1000),\n",
    "    'loan_amt_outstanding': np.random.uniform(10000, 500000, 1000),\n",
    "    'total_debt_outstanding': np.random.uniform(20000, 1000000, 1000),\n",
    "    'income': np.random.uniform(30000, 200000, 1000),\n",
    "    'years_employed': np.random.randint(0, 30, 1000),\n",
    "    'fico_score': np.random.randint(300, 850, 1000),\n",
    "    'default': np.random.binomial(1, 0.15, 1000)\n",
    "})\n",
    "print(df.head())"
   ]
  },
  {
   "cell_type": "markdown",
   "metadata": {},
   "source": [
    "## 特征工程\n",
    "\n",
    "添加新特征并将数据分为训练集和测试集。"
   ]
  },
  {
   "cell_type": "code",
   "execution_count": 16,
   "metadata": {},
   "outputs": [],
   "source": [
    "X = df.drop(['default', 'customer_id'], axis=1)\n",
    "y = df['default']\n",
    "\n",
    "# 添加新特征\n",
    "X['debt_to_income_ratio'] = X['total_debt_outstanding'] / X['income']\n",
    "X['loan_to_income_ratio'] = X['loan_amt_outstanding'] / X['income']\n",
    "\n",
    "X_train, X_test, y_train, y_test = train_test_split(X, y, test_size=0.2, random_state=42, stratify=y)\n",
    "\n",
    "# 创建标准化器实例\n",
    "scaler = StandardScaler()\n",
    "X_train_scaled = scaler.fit_transform(X_train)\n",
    "X_test_scaled = scaler.transform(X_test)\n"
   ]
  },
  {
   "cell_type": "markdown",
   "metadata": {},
   "source": [
    "## 模型训练与评估\n",
    "\n",
    "训练逻辑回归、决策树和随机森林模型，并评估它们的性能。"
   ]
  },
  {
   "cell_type": "code",
   "execution_count": 17,
   "metadata": {},
   "outputs": [
    {
     "name": "stdout",
     "output_type": "stream",
     "text": [
      "逻辑回归：\n",
      "  最佳参数：{'C': 0.01, 'penalty': 'l2', 'solver': 'lbfgs'}\n",
      "  准确率：0.8450\n",
      "  AUC得分：0.4402\n",
      "决策树：\n",
      "  最佳参数：{'max_depth': 10, 'min_samples_leaf': 10, 'min_samples_split': 10}\n",
      "  准确率：0.8100\n",
      "  AUC得分：0.5196\n",
      "随机森林：\n",
      "  最佳参数：{'max_depth': 10, 'min_samples_split': 20, 'n_estimators': 100}\n",
      "  准确率：0.8450\n",
      "  AUC得分：0.4871\n",
      "\n",
      "最佳模型：决策树\n"
     ]
    }
   ],
   "source": [
    "models = {}\n",
    "best_model = None\n",
    "best_score = 0\n",
    "\n",
    "# 逻辑回归\n",
    "lr_params = {'C': [0.01, 0.1, 1, 10], 'penalty': ['l2'], 'solver': ['lbfgs']}\n",
    "lr_model = GridSearchCV(LogisticRegression(random_state=42), lr_params, cv=5, scoring='roc_auc')\n",
    "lr_model.fit(X_train_scaled, y_train)\n",
    "models['逻辑回归'] = lr_model\n",
    "\n",
    "# 决策树\n",
    "dt_params = {'max_depth': [3, 5, 7, 10], 'min_samples_split': [10, 20, 50], 'min_samples_leaf': [5, 10, 20]}\n",
    "dt_model = GridSearchCV(DecisionTreeClassifier(random_state=42), dt_params, cv=5, scoring='roc_auc')\n",
    "dt_model.fit(X_train, y_train)\n",
    "models['决策树'] = dt_model\n",
    "\n",
    "# 随机森林\n",
    "rf_params = {'n_estimators': [100, 200], 'max_depth': [5, 10, 15], 'min_samples_split': [10, 20]}\n",
    "rf_model = GridSearchCV(RandomForestClassifier(random_state=42), rf_params, cv=5, scoring='roc_auc')\n",
    "rf_model.fit(X_train, y_train)\n",
    "models['随机森林'] = rf_model\n",
    "\n",
    "# 评估模型\n",
    "for model_name, model in models.items():\n",
    "    y_pred = model.predict(X_test_scaled if model_name == '逻辑回归' else X_test)\n",
    "    y_pred_proba = model.predict_proba(X_test_scaled if model_name == '逻辑回归' else X_test)[:, 1]\n",
    "    accuracy = accuracy_score(y_test, y_pred)\n",
    "    auc_score = roc_auc_score(y_test, y_pred_proba)\n",
    "    \n",
    "    print(f'{model_name}：')\n",
    "    print(f'  最佳参数：{model.best_params_}')\n",
    "    print(f'  准确率：{accuracy:.4f}')\n",
    "    print(f'  AUC得分：{auc_score:.4f}')\n",
    "    \n",
    "    if auc_score > best_score:\n",
    "        best_score = auc_score\n",
    "        best_model = model\n",
    "        best_model_name = model_name\n",
    "\n",
    "print(f'\\n最佳模型：{best_model_name}')"
   ]
  },
  {
   "cell_type": "markdown",
   "metadata": {},
   "source": [
    "## 预测和计算预期损失\n",
    "\n",
    "使用表现最佳的模型预测违约概率并计算预期损失。"
   ]
  },
  {
   "cell_type": "code",
   "execution_count": 18,
   "metadata": {},
   "outputs": [
    {
     "name": "stdout",
     "output_type": "stream",
     "text": [
      "违约概率：0.00%\n",
      "预期损失：¥0.00\n"
     ]
    }
   ],
   "source": [
    "def calculate_expected_loss(probability_of_default, loan_amount, recovery_rate=0.1):\n",
    "    return probability_of_default * (1 - recovery_rate) * loan_amount\n",
    "\n",
    "test_case = {\n",
    "    'credit_lines_outstanding': 4,\n",
    "    'loan_amt_outstanding': 100000,\n",
    "    'total_debt_outstanding': 150000,\n",
    "    'income': 80000,\n",
    "    'years_employed': 5,\n",
    "    'fico_score': 650\n",
    "}\n",
    "\n",
    "test_features = pd.DataFrame([test_case])\n",
    "test_features['debt_to_income_ratio'] = test_features['total_debt_outstanding'] / test_features['income']\n",
    "test_features['loan_to_income_ratio'] = test_features['loan_amt_outstanding'] / test_features['income']\n",
    "\n",
    "prob_default = best_model.predict_proba(test_features if best_model_name != '逻辑回归' else scaler.transform(test_features))[:, 1][0]\n",
    "expected_loss = calculate_expected_loss(prob_default, loan_amount=100000)\n",
    "\n",
    "print(f'违约概率：{prob_default:.2%}')\n",
    "print(f'预期损失：¥{expected_loss:,.2f}')"
   ]
  },
  {
   "cell_type": "markdown",
   "metadata": {},
   "source": [
    "## 模型性能可视化\n",
    "\n",
    "展示模型性能比较和特征重要性分析。"
   ]
  },
  {
   "cell_type": "code",
   "execution_count": 19,
   "metadata": {},
   "outputs": [
    {
     "data": {
      "image/png": "[encoded data removed]",
      "text/plain": [
       "<Figure size 1200x500 with 2 Axes>"
      ]
     },
     "metadata": {},
     "output_type": "display_data"
    },
    {
     "data": {
      "image/png": "[encoded data removed]",
      "text/plain": [
       "<Figure size 1000x600 with 1 Axes>"
      ]
     },
     "metadata": {},
     "output_type": "display_data"
    }
   ],
   "source": [
    "# 模型性能比较图\n",
    "model_names = list(models.keys())\n",
    "accuracies = []\n",
    "auc_scores = []\n",
    "\n",
    "for model_name, model in models.items():\n",
    "    y_pred = model.predict(X_test_scaled if model_name == '逻辑回归' else X_test)\n",
    "    y_pred_proba = model.predict_proba(X_test_scaled if model_name == '逻辑回归' else X_test)[:, 1]\n",
    "    accuracies.append(accuracy_score(y_test, y_pred))\n",
    "    auc_scores.append(roc_auc_score(y_test, y_pred_proba))\n",
    "\n",
    "# 创建性能比较图\n",
    "fig, (ax1, ax2) = plt.subplots(1, 2, figsize=(12, 5))\n",
    "\n",
    "# 准确率比较\n",
    "ax1.bar(model_names, accuracies, color=['#3498db', '#2ecc71', '#e74c3c'])\n",
    "ax1.set_ylabel('准确率')\n",
    "ax1.set_title('各模型准确率比较')\n",
    "ax1.set_ylim(0, 1)\n",
    "for i, v in enumerate(accuracies):\n",
    "    ax1.text(i, v + 0.01, f'{v:.3f}', ha='center')\n",
    "\n",
    "# AUC得分比较\n",
    "ax2.bar(model_names, auc_scores, color=['#3498db', '#2ecc71', '#e74c3c'])\n",
    "ax2.set_ylabel('AUC得分')\n",
    "ax2.set_title('各模型AUC得分比较')\n",
    "ax2.set_ylim(0, 1)\n",
    "for i, v in enumerate(auc_scores):\n",
    "    ax2.text(i, v + 0.01, f'{v:.3f}', ha='center')\n",
    "\n",
    "plt.tight_layout()\n",
    "plt.show()\n",
    "\n",
    "# 特征重要性（如果最佳模型是树模型）\n",
    "if best_model_name in ['决策树', '随机森林']:\n",
    "    feature_importance = pd.DataFrame({\n",
    "        '特征': X.columns,\n",
    "        '重要性': best_model.best_estimator_.feature_importances_\n",
    "    }).sort_values('重要性', ascending=False)\n",
    "    \n",
    "    plt.figure(figsize=(10, 6))\n",
    "    plt.barh(feature_importance['特征'], feature_importance['重要性'])\n",
    "    plt.xlabel('重要性得分')\n",
    "    plt.title(f'{best_model_name}模型的特征重要性')\n",
    "    plt.gca().invert_yaxis()\n",
    "    plt.tight_layout()\n",
    "    plt.show()"
   ]
  },
  {
   "cell_type": "markdown",
   "metadata": {},
   "source": [
    "## 批量测试案例\n",
    "\n",
    "使用多个测试案例展示模型的预测能力。"
   ]
  },
  {
   "cell_type": "code",
   "execution_count": 20,
   "metadata": {},
   "outputs": [
    {
     "name": "stdout",
     "output_type": "stream",
     "text": [
      "贷款风险评估批量测试结果\n",
      "================================================================================\n",
      "客户类型: 优质客户\n",
      "  贷款金额: ¥100,000\n",
      "  违约概率: 0.00%\n",
      "  预期损失: ¥0.00\n",
      "  风险等级: 低\n",
      "----------------------------------------\n",
      "客户类型: 中等风险客户\n",
      "  贷款金额: ¥80,000\n",
      "  违约概率: 0.00%\n",
      "  预期损失: ¥0.00\n",
      "  风险等级: 低\n",
      "----------------------------------------\n",
      "客户类型: 高风险客户\n",
      "  贷款金额: ¥150,000\n",
      "  违约概率: 0.00%\n",
      "  预期损失: ¥0.00\n",
      "  风险等级: 低\n",
      "----------------------------------------\n",
      "\n",
      "结果汇总表:\n",
      "  客户类型   贷款金额  违约概率  预期损失 风险等级\n",
      "  优质客户 100000 0.00% 0.00%    低\n",
      "中等风险客户  80000 0.00% 0.00%    低\n",
      " 高风险客户 150000 0.00% 0.00%    低\n"
     ]
    }
   ],
   "source": [
    "# 创建多个测试案例\n",
    "test_cases = [\n",
    "    {\n",
    "        '描述': '优质客户',\n",
    "        'credit_lines_outstanding': 2,\n",
    "        'loan_amt_outstanding': 50000,\n",
    "        'total_debt_outstanding': 80000,\n",
    "        'income': 150000,\n",
    "        'years_employed': 15,\n",
    "        'fico_score': 780,\n",
    "        'loan_amount': 100000\n",
    "    },\n",
    "    {\n",
    "        '描述': '中等风险客户',\n",
    "        'credit_lines_outstanding': 4,\n",
    "        'loan_amt_outstanding': 100000,\n",
    "        'total_debt_outstanding': 150000,\n",
    "        'income': 80000,\n",
    "        'years_employed': 5,\n",
    "        'fico_score': 650,\n",
    "        'loan_amount': 80000\n",
    "    },\n",
    "    {\n",
    "        '描述': '高风险客户',\n",
    "        'credit_lines_outstanding': 8,\n",
    "        'loan_amt_outstanding': 250000,\n",
    "        'total_debt_outstanding': 400000,\n",
    "        'income': 60000,\n",
    "        'years_employed': 2,\n",
    "        'fico_score': 550,\n",
    "        'loan_amount': 150000\n",
    "    }\n",
    "]\n",
    "\n",
    "# 批量预测和结果展示\n",
    "results = []\n",
    "\n",
    "print(\"贷款风险评估批量测试结果\")\n",
    "print(\"=\" * 80)\n",
    "\n",
    "for case in test_cases:\n",
    "    # 准备特征\n",
    "    features = {k: v for k, v in case.items() if k not in ['描述', 'loan_amount']}\n",
    "    test_df = pd.DataFrame([features])\n",
    "    test_df['debt_to_income_ratio'] = test_df['total_debt_outstanding'] / test_df['income']\n",
    "    test_df['loan_to_income_ratio'] = test_df['loan_amt_outstanding'] / test_df['income']\n",
    "    \n",
    "    # 预测\n",
    "    if best_model_name == '逻辑回归':\n",
    "        prob = best_model.predict_proba(scaler.transform(test_df))[:, 1][0]\n",
    "    else:\n",
    "        prob = best_model.predict_proba(test_df)[:, 1][0]\n",
    "    \n",
    "    expected_loss = calculate_expected_loss(prob, case['loan_amount'])\n",
    "    \n",
    "    # 保存结果\n",
    "    results.append({\n",
    "        '客户类型': case['描述'],\n",
    "        '贷款金额': case['loan_amount'],\n",
    "        '违约概率': prob,\n",
    "        '预期损失': expected_loss,\n",
    "        '风险等级': '低' if prob < 0.1 else ('中' if prob < 0.3 else '高')\n",
    "    })\n",
    "    \n",
    "    print(f\"客户类型: {case['描述']}\")\n",
    "    print(f\"  贷款金额: ¥{case['loan_amount']:,}\")\n",
    "    print(f\"  违约概率: {prob:.2%}\")\n",
    "    print(f\"  预期损失: ¥{expected_loss:,.2f}\")\n",
    "    print(f\"  风险等级: {results[-1]['风险等级']}\")\n",
    "    print(\"-\" * 40)\n",
    "\n",
    "# 结果汇总表\n",
    "results_df = pd.DataFrame(results)\n",
    "print(\"\\n结果汇总表:\")\n",
    "print(results_df.to_string(index=False, float_format=lambda x: f'{x:.2%}' if x < 1 else f'¥{x:,.0f}'))"
   ]
  },
  {
   "cell_type": "markdown",
   "metadata": {},
   "source": [
    "## 最终预测函数\n",
    "\n",
    "封装成一个完整的函数。"
   ]
  },
  {
   "cell_type": "code",
   "execution_count": 21,
   "metadata": {},
   "outputs": [
    {
     "name": "stdout",
     "output_type": "stream",
     "text": [
      "\n",
      "函数测试结果:\n",
      "贷款金额: ¥50,000\n",
      "预期损失: ¥0.00\n",
      "损失率: 0.00%\n"
     ]
    }
   ],
   "source": [
    "def predict_loan_expected_loss(loan_properties, trained_model=None, trained_scaler=None, model_type=None):\n",
    "    \"\"\"\n",
    "    根据贷款属性预测预期损失\n",
    "    \n",
    "    参数:\n",
    "    loan_properties: 包含以下键的字典\n",
    "        - credit_lines_outstanding: 未结清信贷额度\n",
    "        - loan_amt_outstanding: 未偿还贷款金额\n",
    "        - total_debt_outstanding: 未偿还债务总额\n",
    "        - income: 收入\n",
    "        - years_employed: 工作年限\n",
    "        - fico_score: 信用评分\n",
    "        - loan_amount: 贷款金额\n",
    "    trained_model: 已训练的模型（默认使用全局best_model）\n",
    "    trained_scaler: 已训练的标准化器（仅逻辑回归需要）\n",
    "    model_type: 模型类型名称\n",
    "    \n",
    "    返回:\n",
    "    预期损失金额\n",
    "    \"\"\"\n",
    "    # 使用默认模型\n",
    "    if trained_model is None:\n",
    "        trained_model = best_model\n",
    "        model_type = best_model_name\n",
    "    if trained_scaler is None:\n",
    "        trained_scaler = scaler\n",
    "    \n",
    "    # 准备特征\n",
    "    features = {k: v for k, v in loan_properties.items() if k != 'loan_amount'}\n",
    "    features_df = pd.DataFrame([features])\n",
    "    \n",
    "    # 添加衍生特征\n",
    "    features_df['debt_to_income_ratio'] = features_df['total_debt_outstanding'] / features_df['income']\n",
    "    features_df['loan_to_income_ratio'] = features_df['loan_amt_outstanding'] / features_df['income']\n",
    "    \n",
    "    # 预测违约概率\n",
    "    if model_type == '逻辑回归':\n",
    "        prob_default = trained_model.predict_proba(trained_scaler.transform(features_df))[:, 1][0]\n",
    "    else:\n",
    "        prob_default = trained_model.predict_proba(features_df)[:, 1][0]\n",
    "    \n",
    "    # 计算预期损失\n",
    "    recovery_rate = 0.1\n",
    "    expected_loss = prob_default * (1 - recovery_rate) * loan_properties['loan_amount']\n",
    "    \n",
    "    return expected_loss\n",
    "\n",
    "# 测试函数\n",
    "test_loan = {\n",
    "    'credit_lines_outstanding': 3,\n",
    "    'loan_amt_outstanding': 75000,\n",
    "    'total_debt_outstanding': 120000,\n",
    "    'income': 90000,\n",
    "    'years_employed': 8,\n",
    "    'fico_score': 700,\n",
    "    'loan_amount': 50000\n",
    "}\n",
    "\n",
    "expected_loss = predict_loan_expected_loss(test_loan)\n",
    "print(f\"\\n函数测试结果:\")\n",
    "print(f\"贷款金额: ¥{test_loan['loan_amount']:,}\")\n",
    "print(f\"预期损失: ¥{expected_loss:,.2f}\")\n",
    "print(f\"损失率: {expected_loss/test_loan['loan_amount']:.2%}\")"
   ]
  }
 ],
 "metadata": {
  "kernelspec": {
   "display_name": "gas_analysis_env",
   "language": "python",
   "name": "python3"
  },
  "language_info": {
   "codemirror_mode": {
    "name": "ipython",
    "version": 3
   },
   "file_extension": ".py",
   "mimetype": "text/x-python",
   "name": "python",
   "nbconvert_exporter": "python",
   "pygments_lexer": "ipython3",
   "version": "3.13.2"
  }
 },
 "nbformat": 4,
 "nbformat_minor": 4
}
